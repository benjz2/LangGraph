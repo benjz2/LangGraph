{
 "cells": [
  {
   "cell_type": "code",
   "execution_count": 4,
   "metadata": {},
   "outputs": [
    {
     "name": "stdout",
     "output_type": "stream",
     "text": [
      "models/gemini-1.0-pro\n",
      "models/gemini-1.0-pro-001\n",
      "models/gemini-1.0-pro-latest\n",
      "models/gemini-1.0-pro-vision-latest\n",
      "models/gemini-1.5-flash\n",
      "models/gemini-1.5-flash-001\n",
      "models/gemini-1.5-flash-latest\n",
      "models/gemini-1.5-pro\n",
      "models/gemini-1.5-pro-001\n",
      "models/gemini-1.5-pro-latest\n",
      "models/gemini-pro\n",
      "models/gemini-pro-vision\n"
     ]
    }
   ],
   "source": [
    "import pathlib\n",
    "import textwrap\n",
    "import os, getpass\n",
    "import google.generativeai as genai\n",
    "from IPython.display import display\n",
    "from IPython.display import Markdown\n",
    "\n",
    "def to_markdown(text):\n",
    "  text = text.replace('•', '  *')\n",
    "  return Markdown(textwrap.indent(text, '> ', predicate=lambda _: True))\n",
    "\n",
    "GOOGLE_API_KEY = os.environ.get(\"GOOGLE_API_KEY\")\n",
    "genai.configure(api_key=GOOGLE_API_KEY)\n",
    "\n",
    "for m in genai.list_models():\n",
    "  if 'generateContent' in m.supported_generation_methods:\n",
    "    print(m.name)\n",
    "\n",
    "model = genai.GenerativeModel('gemini-1.5-flash')"
   ]
  },
  {
   "cell_type": "code",
   "execution_count": 6,
   "metadata": {},
   "outputs": [
    {
     "data": {
      "text/markdown": [
       "> As a large language model, I don't have personal beliefs or experiences, so I can't tell you the meaning of life. That's a question that philosophers, theologians, and individuals have been grappling with for centuries, and there's no single right answer. \n",
       "> \n",
       "> Here's what I can offer:\n",
       "> \n",
       "> **The meaning of life is a deeply personal question.** It's something you need to figure out for yourself, based on your own values, experiences, and beliefs. \n",
       "> \n",
       "> **Here are some common perspectives on the meaning of life:**\n",
       "> \n",
       "> * **Finding happiness and fulfillment:** Many people believe that the meaning of life lies in pursuing happiness and fulfillment through meaningful relationships, passions, and contributing to something bigger than oneself.\n",
       "> * **Leaving a legacy:**  Some believe that the meaning of life is about leaving a lasting impact on the world, whether through your work, family, or contributions to society.\n",
       "> * **Spiritual enlightenment or connection:** For others, the meaning of life lies in achieving spiritual enlightenment, connecting with a higher power, or finding purpose through faith.\n",
       "> * **Experiencing life to the fullest:** Some see the meaning of life as simply about experiencing all that life has to offer – joy, sorrow, love, loss, and everything in between.\n",
       "> \n",
       "> **It's helpful to think about:**\n",
       "> \n",
       "> * **What brings you joy and fulfillment?**\n",
       "> * **What are your values and beliefs?**\n",
       "> * **What kind of impact do you want to have on the world?**\n",
       "> * **What do you want to be remembered for?**\n",
       "> \n",
       "> The journey of finding meaning in life is ongoing. It's not about finding one definitive answer, but rather about exploring different perspectives, reflecting on your experiences, and shaping your own unique understanding of what life is all about. \n"
      ],
      "text/plain": [
       "<IPython.core.display.Markdown object>"
      ]
     },
     "execution_count": 6,
     "metadata": {},
     "output_type": "execute_result"
    }
   ],
   "source": [
    "response = model.generate_content(\"What is the meaning of life?\")\n",
    "to_markdown(response.text)"
   ]
  },
  {
   "cell_type": "code",
   "execution_count": 8,
   "metadata": {},
   "outputs": [
    {
     "data": {
      "text/plain": [
       "[index: 0\n",
       "content {\n",
       "  parts {\n",
       "    text: \"As a large language model, I don\\'t have personal beliefs or experiences, so I can\\'t tell you the meaning of life. That\\'s a question that philosophers, theologians, and individuals have been grappling with for centuries, and there\\'s no single right answer. \\n\\nHere\\'s what I can offer:\\n\\n**The meaning of life is a deeply personal question.** It\\'s something you need to figure out for yourself, based on your own values, experiences, and beliefs. \\n\\n**Here are some common perspectives on the meaning of life:**\\n\\n* **Finding happiness and fulfillment:** Many people believe that the meaning of life lies in pursuing happiness and fulfillment through meaningful relationships, passions, and contributing to something bigger than oneself.\\n* **Leaving a legacy:**  Some believe that the meaning of life is about leaving a lasting impact on the world, whether through your work, family, or contributions to society.\\n* **Spiritual enlightenment or connection:** For others, the meaning of life lies in achieving spiritual enlightenment, connecting with a higher power, or finding purpose through faith.\\n* **Experiencing life to the fullest:** Some see the meaning of life as simply about experiencing all that life has to offer – joy, sorrow, love, loss, and everything in between.\\n\\n**It\\'s helpful to think about:**\\n\\n* **What brings you joy and fulfillment?**\\n* **What are your values and beliefs?**\\n* **What kind of impact do you want to have on the world?**\\n* **What do you want to be remembered for?**\\n\\nThe journey of finding meaning in life is ongoing. It\\'s not about finding one definitive answer, but rather about exploring different perspectives, reflecting on your experiences, and shaping your own unique understanding of what life is all about. \\n\"\n",
       "  }\n",
       "  role: \"model\"\n",
       "}\n",
       "finish_reason: STOP\n",
       "safety_ratings {\n",
       "  category: HARM_CATEGORY_SEXUALLY_EXPLICIT\n",
       "  probability: NEGLIGIBLE\n",
       "}\n",
       "safety_ratings {\n",
       "  category: HARM_CATEGORY_HATE_SPEECH\n",
       "  probability: NEGLIGIBLE\n",
       "}\n",
       "safety_ratings {\n",
       "  category: HARM_CATEGORY_HARASSMENT\n",
       "  probability: NEGLIGIBLE\n",
       "}\n",
       "safety_ratings {\n",
       "  category: HARM_CATEGORY_DANGEROUS_CONTENT\n",
       "  probability: NEGLIGIBLE\n",
       "}\n",
       "]"
      ]
     },
     "execution_count": 8,
     "metadata": {},
     "output_type": "execute_result"
    }
   ],
   "source": [
    "response.candidates"
   ]
  },
  {
   "cell_type": "markdown",
   "metadata": {},
   "source": [
    "## Stream"
   ]
  },
  {
   "cell_type": "code",
   "execution_count": null,
   "metadata": {},
   "outputs": [],
   "source": [
    "# response = model.generate_content(\"What is the meaning of life?\", stream=True)\n",
    "# for chunk in response:\n",
    "#   print(chunk.text)\n",
    "#   print(\"_\"*80)"
   ]
  },
  {
   "cell_type": "markdown",
   "metadata": {},
   "source": [
    "## Chat conversations"
   ]
  },
  {
   "cell_type": "code",
   "execution_count": 9,
   "metadata": {},
   "outputs": [
    {
     "data": {
      "text/plain": [
       "ChatSession(\n",
       "    model=genai.GenerativeModel(\n",
       "        model_name='models/gemini-1.5-flash',\n",
       "        generation_config={},\n",
       "        safety_settings={},\n",
       "        tools=None,\n",
       "        system_instruction=None,\n",
       "    ),\n",
       "    history=[]\n",
       ")"
      ]
     },
     "execution_count": 9,
     "metadata": {},
     "output_type": "execute_result"
    }
   ],
   "source": [
    "chat = model.start_chat(history=[])\n",
    "chat"
   ]
  },
  {
   "cell_type": "code",
   "execution_count": 10,
   "metadata": {},
   "outputs": [
    {
     "data": {
      "text/markdown": [
       "> A computer is like a super smart toy that follows your instructions, uses numbers and lights to remember things, and shows you what it's thinking on a screen! \n"
      ],
      "text/plain": [
       "<IPython.core.display.Markdown object>"
      ]
     },
     "execution_count": 10,
     "metadata": {},
     "output_type": "execute_result"
    }
   ],
   "source": [
    "response = chat.send_message(\"In one sentence, explain how a computer works to a young child.\")\n",
    "to_markdown(response.text)"
   ]
  },
  {
   "cell_type": "code",
   "execution_count": 12,
   "metadata": {},
   "outputs": [
    {
     "data": {
      "text/markdown": [
       "> **user**: In one sentence, explain how a computer works to a young child."
      ],
      "text/plain": [
       "<IPython.core.display.Markdown object>"
      ]
     },
     "metadata": {},
     "output_type": "display_data"
    },
    {
     "data": {
      "text/markdown": [
       "> **model**: A computer is like a super smart toy that follows your instructions, uses numbers and lights to remember things, and shows you what it's thinking on a screen! \n"
      ],
      "text/plain": [
       "<IPython.core.display.Markdown object>"
      ]
     },
     "metadata": {},
     "output_type": "display_data"
    }
   ],
   "source": [
    "for message in chat.history:\n",
    "  display(to_markdown(f'**{message.role}**: {message.parts[0].text}'))"
   ]
  },
  {
   "cell_type": "markdown",
   "metadata": {},
   "source": [
    "## Multi-turn conversations"
   ]
  },
  {
   "cell_type": "code",
   "execution_count": 5,
   "metadata": {},
   "outputs": [
    {
     "data": {
      "text/markdown": [
       "> Imagine a computer is like a really smart friend who can do lots of things! It has a special brain called a **processor** that helps it think and make decisions. \n",
       "> \n",
       "> The computer also has a **memory** where it stores information, like your favorite games or pictures. Think of it like a big bookshelf where you can keep all your things organized.\n",
       "> \n",
       "> When you tell the computer what to do, it uses its processor to figure out how to do it and then uses its memory to store the information.  \n",
       "> \n",
       "> For example, when you play a game, the computer uses its processor to make the characters move and its memory to remember what you've done in the game. \n",
       "> \n",
       "> The computer also has a special **screen** that lets you see what it's doing and a **keyboard** and **mouse** so you can talk to it and tell it what you want! \n"
      ],
      "text/plain": [
       "<IPython.core.display.Markdown object>"
      ]
     },
     "execution_count": 5,
     "metadata": {},
     "output_type": "execute_result"
    }
   ],
   "source": [
    "messages = [\n",
    "    {'role':'user',\n",
    "     'parts': [\"Briefly explain how a computer works to a young child.\"]}\n",
    "]\n",
    "response = model.generate_content(messages)\n",
    "\n",
    "to_markdown(response.text)"
   ]
  },
  {
   "cell_type": "code",
   "execution_count": 6,
   "metadata": {},
   "outputs": [
    {
     "data": {
      "text/markdown": [
       "> Okay, so a computer is basically a machine that processes information. It works on a very simple principle: **taking input, processing it, and then producing output.** Think of it like a recipe: \n",
       "> \n",
       "> * **Input:** The ingredients are like the data you give the computer.\n",
       "> * **Processing:** The steps in the recipe are like the instructions the computer follows to work on the data.\n",
       "> * **Output:** The finished dish is like the result the computer gives you.\n",
       "> \n",
       "> Here's a deeper dive into the parts that make this happen:\n",
       "> \n",
       "> * **Central Processing Unit (CPU):** This is the brain of the computer, responsible for executing instructions. Imagine it as the chef following the recipe, making decisions, and controlling the entire process.\n",
       "> * **Memory (RAM):** This is where the computer stores temporary data it's working with, like the ingredients you've laid out on the counter. \n",
       "> * **Storage (Hard Drive/SSD):** This is the long-term memory, where the computer stores the \"recipes\" (programs and files) and the \"finished dishes\" (saved data). \n",
       "> * **Input Devices:** These are how you give the computer instructions, like a keyboard, mouse, microphone, or a scanner. \n",
       "> * **Output Devices:** These are how the computer shows you the results, like a monitor, speakers, or printer.\n",
       "> \n",
       "> The computer uses a language called **binary code**, which is a system of 0s and 1s, to represent information. It's how the CPU understands and processes instructions. This code is what makes the computer so versatile - it can be used for everything from playing games to writing essays to analyzing complex data.\n",
       "> \n",
       "> So, while it may seem like a magical box, the computer is simply a very fast and efficient machine that follows instructions and manipulates information to produce results. \n"
      ],
      "text/plain": [
       "<IPython.core.display.Markdown object>"
      ]
     },
     "execution_count": 6,
     "metadata": {},
     "output_type": "execute_result"
    }
   ],
   "source": [
    "messages.append({'role':'model',\n",
    "                 'parts':[response.text]})\n",
    "\n",
    "messages.append({'role':'user',\n",
    "                 'parts':[\"Okay, how about a more detailed explanation to a high school student?\"]})\n",
    "\n",
    "response = model.generate_content(messages)\n",
    "\n",
    "to_markdown(response.text)"
   ]
  },
  {
   "cell_type": "markdown",
   "metadata": {},
   "source": [
    "## Count tokens"
   ]
  },
  {
   "cell_type": "code",
   "execution_count": 13,
   "metadata": {},
   "outputs": [
    {
     "data": {
      "text/plain": [
       "total_tokens: 7"
      ]
     },
     "execution_count": 13,
     "metadata": {},
     "output_type": "execute_result"
    }
   ],
   "source": [
    "model.count_tokens(\"What is the meaning of life?\")"
   ]
  },
  {
   "cell_type": "markdown",
   "metadata": {},
   "source": [
    "## Use embeddings"
   ]
  },
  {
   "attachments": {
    "image.png": {
     "image/png": "[encoded data removed]"
    }
   },
   "cell_type": "markdown",
   "metadata": {},
   "source": [
    "![image.png](attachment:image.png)"
   ]
  },
  {
   "cell_type": "code",
   "execution_count": 14,
   "metadata": {},
   "outputs": [
    {
     "name": "stdout",
     "output_type": "stream",
     "text": [
      "[0.0040260437, 0.004124458, -0.014209415, -0.00183 ... TRIMMED ...\n",
      "[-0.004049845, -0.0075574904, -0.0073463684, -0.03 ... TRIMMED ...\n",
      "[0.025310587, -0.0080734305, -0.029902633, 0.01160 ... TRIMMED ...\n"
     ]
    }
   ],
   "source": [
    "result = genai.embed_content(\n",
    "    model=\"models/embedding-001\",\n",
    "    content=[\n",
    "      'What is the meaning of life?',\n",
    "      'How much wood would a woodchuck chuck?',\n",
    "      'How does the brain work?'],\n",
    "    task_type=\"retrieval_document\",\n",
    "    title=\"Embedding of list of strings\")\n",
    "\n",
    "# A list of inputs > A list of vectors output\n",
    "for v in result['embedding']:\n",
    "  print(str(v)[:50], '... TRIMMED ...')"
   ]
  },
  {
   "cell_type": "markdown",
   "metadata": {},
   "source": [
    "## Generation configuration"
   ]
  },
  {
   "cell_type": "code",
   "execution_count": 15,
   "metadata": {},
   "outputs": [],
   "source": [
    "model = genai.GenerativeModel('gemini-1.5-flash')\n",
    "response = model.generate_content(\n",
    "    'Tell me a story about a magic backpack.',\n",
    "    generation_config=genai.types.GenerationConfig(\n",
    "        # Only one candidate for now.\n",
    "        candidate_count=1,\n",
    "        stop_sequences=['x'],\n",
    "        max_output_tokens=20,\n",
    "        temperature=1.0)\n",
    ")"
   ]
  },
  {
   "cell_type": "code",
   "execution_count": 16,
   "metadata": {},
   "outputs": [
    {
     "data": {
      "text/plain": [
       "response:\n",
       "GenerateContentResponse(\n",
       "    done=True,\n",
       "    iterator=None,\n",
       "    result=protos.GenerateContentResponse({\n",
       "      \"candidates\": [\n",
       "        {\n",
       "          \"content\": {\n",
       "            \"parts\": [\n",
       "              {\n",
       "                \"text\": \"Elara, a wisp of a girl with eyes the color of the summer sky, stumbled upon\"\n",
       "              }\n",
       "            ],\n",
       "            \"role\": \"model\"\n",
       "          },\n",
       "          \"finish_reason\": \"MAX_TOKENS\",\n",
       "          \"index\": 0,\n",
       "          \"safety_ratings\": [\n",
       "            {\n",
       "              \"category\": \"HARM_CATEGORY_SEXUALLY_EXPLICIT\",\n",
       "              \"probability\": \"NEGLIGIBLE\"\n",
       "            },\n",
       "            {\n",
       "              \"category\": \"HARM_CATEGORY_HATE_SPEECH\",\n",
       "              \"probability\": \"NEGLIGIBLE\"\n",
       "            },\n",
       "            {\n",
       "              \"category\": \"HARM_CATEGORY_HARASSMENT\",\n",
       "              \"probability\": \"NEGLIGIBLE\"\n",
       "            },\n",
       "            {\n",
       "              \"category\": \"HARM_CATEGORY_DANGEROUS_CONTENT\",\n",
       "              \"probability\": \"NEGLIGIBLE\"\n",
       "            }\n",
       "          ]\n",
       "        }\n",
       "      ]\n",
       "    }),\n",
       ")"
      ]
     },
     "execution_count": 16,
     "metadata": {},
     "output_type": "execute_result"
    }
   ],
   "source": [
    "response"
   ]
  },
  {
   "cell_type": "code",
   "execution_count": 17,
   "metadata": {},
   "outputs": [
    {
     "data": {
      "text/markdown": [
       "> Elara, a wisp of a girl with eyes the color of the summer sky, stumbled upon..."
      ],
      "text/plain": [
       "<IPython.core.display.Markdown object>"
      ]
     },
     "execution_count": 17,
     "metadata": {},
     "output_type": "execute_result"
    }
   ],
   "source": [
    "text = response.text\n",
    "if response.candidates[0].finish_reason.name == \"MAX_TOKENS\":\n",
    "    text += '...'\n",
    "to_markdown(text)"
   ]
  }
 ],
 "metadata": {
  "kernelspec": {
   "display_name": "venv",
   "language": "python",
   "name": "python3"
  },
  "language_info": {
   "codemirror_mode": {
    "name": "ipython",
    "version": 3
   },
   "file_extension": ".py",
   "mimetype": "text/x-python",
   "name": "python",
   "nbconvert_exporter": "python",
   "pygments_lexer": "ipython3",
   "version": "3.11.2"
  }
 },
 "nbformat": 4,
 "nbformat_minor": 2
}
