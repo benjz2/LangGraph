{
 "cells": [
  {
   "cell_type": "code",
   "execution_count": 4,
   "metadata": {},
   "outputs": [],
   "source": [
    "from langgraph.graph import StateGraph, END\n",
    "from typing import TypedDict, Annotated\n",
    "import operator\n",
    "from langchain_core.messages import AnyMessage, SystemMessage, HumanMessage, ToolMessage\n",
    "from langchain_groq import ChatGroq\n",
    "from langchain_community.tools.tavily_search import TavilySearchResults\n",
    "from langgraph.checkpoint.sqlite import SqliteSaver\n",
    "import os, getpass\n",
    "\n",
    "def _set_if_undefined(var: str):\n",
    "    if not os.environ.get(var):\n",
    "        os.environ[var] = getpass.getpass(f\"Please provide your {var}\")\n",
    "\n",
    "_set_if_undefined(\"GROQ_API_KEY\")\n",
    "\n",
    "model = ChatGroq(temperature=0, model_name=\"llama3-70b-8192\")\n",
    "tool = TavilySearchResults(max_results=2)\n",
    "memory = SqliteSaver.from_conn_string(\":memory:\")"
   ]
  },
  {
   "cell_type": "code",
   "execution_count": 5,
   "metadata": {},
   "outputs": [],
   "source": [
    "class AgentState(TypedDict):\n",
    "    messages: Annotated[list[AnyMessage], operator.add]"
   ]
  },
  {
   "cell_type": "code",
   "execution_count": 6,
   "metadata": {},
   "outputs": [],
   "source": [
    "class Agent:\n",
    "    def __init__(self, model, tools, checkpointer, system=\"\"):\n",
    "        self.system = system\n",
    "        graph = StateGraph(AgentState)\n",
    "        graph.add_node(\"llm\", self.call_groq)\n",
    "        graph.add_node(\"action\", self.take_action)\n",
    "        graph.add_conditional_edges(\"llm\", self.exists_action, {True: \"action\", False: END})\n",
    "        graph.add_edge(\"action\", \"llm\")\n",
    "        graph.set_entry_point(\"llm\")\n",
    "        self.graph = graph.compile(checkpointer=checkpointer)\n",
    "        self.tools = {t.name: t for t in tools}\n",
    "        self.model = model.bind_tools(tools)\n",
    "\n",
    "    def call_groq(self, state: AgentState):\n",
    "        messages = state['messages']\n",
    "        if self.system:\n",
    "            messages = [SystemMessage(content=self.system)] + messages\n",
    "        message = self.model.invoke(messages)\n",
    "        return {'messages': [message]}\n",
    "\n",
    "    def exists_action(self, state: AgentState):\n",
    "        result = state['messages'][-1]\n",
    "        return len(result.tool_calls) > 0\n",
    "\n",
    "    def take_action(self, state: AgentState):\n",
    "        tool_calls = state['messages'][-1].tool_calls\n",
    "        results = []\n",
    "        for t in tool_calls:\n",
    "            print(f\"Calling: {t}\")\n",
    "            result = self.tools[t['name']].invoke(t['args'])\n",
    "            results.append(ToolMessage(tool_call_id=t['id'], name=t['name'], content=str(result)))\n",
    "        print(\"Back to the model!\")\n",
    "        return {'messages': results}"
   ]
  },
  {
   "cell_type": "code",
   "execution_count": 7,
   "metadata": {},
   "outputs": [],
   "source": [
    "prompt = \"\"\"You are a smart research assistant. Use the search engine to look up information. \\\n",
    "You are allowed to make multiple calls (either together or in sequence). \\\n",
    "Only look up information when you are sure of what you want. \\\n",
    "If you need to look up some information before asking a follow up question, you are allowed to do that!\n",
    "\"\"\"\n",
    "abot = Agent(model, [tool], system=prompt, checkpointer=memory)"
   ]
  },
  {
   "cell_type": "code",
   "execution_count": 8,
   "metadata": {},
   "outputs": [],
   "source": [
    "messages = [HumanMessage(content=\"What is the weather in SF?\")]"
   ]
  },
  {
   "cell_type": "code",
   "execution_count": 9,
   "metadata": {},
   "outputs": [],
   "source": [
    "thread = {\"configurable\": {\"thread_id\": \"1\"}}"
   ]
  },
  {
   "cell_type": "code",
   "execution_count": 10,
   "metadata": {},
   "outputs": [
    {
     "name": "stdout",
     "output_type": "stream",
     "text": [
      "[AIMessage(content='', additional_kwargs={'tool_calls': [{'id': 'call_pswn', 'function': {'arguments': '{\"query\":\"current weather in San Francisco\"}', 'name': 'tavily_search_results_json'}, 'type': 'function'}]}, response_metadata={'token_usage': {'completion_tokens': 50, 'prompt_tokens': 1014, 'total_tokens': 1064, 'completion_time': 0.148364597, 'prompt_time': 0.436781996, 'queue_time': None, 'total_time': 0.5851465929999999}, 'model_name': 'llama3-70b-8192', 'system_fingerprint': 'fp_2f30b0b571', 'finish_reason': 'tool_calls', 'logprobs': None}, id='run-2f10587c-0f1b-4baf-8174-25c72a69f461-0', tool_calls=[{'name': 'tavily_search_results_json', 'args': {'query': 'current weather in San Francisco'}, 'id': 'call_pswn'}])]\n",
      "Calling: {'name': 'tavily_search_results_json', 'args': {'query': 'current weather in San Francisco'}, 'id': 'call_pswn'}\n",
      "Back to the model!\n",
      "[ToolMessage(content='[{\\'url\\': \\'https://www.weatherapi.com/\\', \\'content\\': \"{\\'location\\': {\\'name\\': \\'San Francisco\\', \\'region\\': \\'California\\', \\'country\\': \\'United States of America\\', \\'lat\\': 37.78, \\'lon\\': -122.42, \\'tz_id\\': \\'America/Los_Angeles\\', \\'localtime_epoch\\': 1717710290, \\'localtime\\': \\'2024-06-06 14:44\\'}, \\'current\\': {\\'last_updated_epoch\\': 1717709400, \\'last_updated\\': \\'2024-06-06 14:30\\', \\'temp_c\\': 18.9, \\'temp_f\\': 66.0, \\'is_day\\': 1, \\'condition\\': {\\'text\\': \\'Sunny\\', \\'icon\\': \\'//cdn.weatherapi.com/weather/64x64/day/113.png\\', \\'code\\': 1000}, \\'wind_mph\\': 13.6, \\'wind_kph\\': 22.0, \\'wind_degree\\': 280, \\'wind_dir\\': \\'W\\', \\'pressure_mb\\': 1012.0, \\'pressure_in\\': 29.87, \\'precip_mm\\': 0.0, \\'precip_in\\': 0.0, \\'humidity\\': 61, \\'cloud\\': 0, \\'feelslike_c\\': 18.9, \\'feelslike_f\\': 66.0, \\'windchill_c\\': 15.6, \\'windchill_f\\': 60.1, \\'heatindex_c\\': 15.6, \\'heatindex_f\\': 60.1, \\'dewpoint_c\\': 10.7, \\'dewpoint_f\\': 51.2, \\'vis_km\\': 16.0, \\'vis_miles\\': 9.0, \\'uv\\': 5.0, \\'gust_mph\\': 15.3, \\'gust_kph\\': 24.7}}\"}, {\\'url\\': \\'https://forecast.weather.gov/MapClick.php?textField1=37.78&textField2=-122.42\\', \\'content\\': \\'San Francisco CA 37.77°N 122.41°W (Elev. 131 ft) Last Update: 1:31 pm PDT May 31, 2024. Forecast Valid: 7pm PDT May 31, 2024-6pm PDT Jun 7, 2024 . Forecast Discussion . Additional Resources. Radar & Satellite Image. Hourly Weather Forecast. ... Severe Weather ; Current Outlook Maps ; Drought ; Fire Weather ; Fronts/Precipitation Maps ...\\'}]', name='tavily_search_results_json', tool_call_id='call_pswn')]\n",
      "[AIMessage(content='The current weather in San Francisco is sunny with a temperature of 66.0°F (18.9°C) and a humidity of 61%. The wind is blowing at 13.6 mph (22.0 kph) from the west.', response_metadata={'token_usage': {'completion_tokens': 51, 'prompt_tokens': 1626, 'total_tokens': 1677, 'completion_time': 0.157642155, 'prompt_time': 0.796382247, 'queue_time': None, 'total_time': 0.954024402}, 'model_name': 'llama3-70b-8192', 'system_fingerprint': 'fp_c1a4bcec29', 'finish_reason': 'stop', 'logprobs': None}, id='run-286abf4f-49e1-4e15-9de2-bf5e6e1636c8-0')]\n"
     ]
    }
   ],
   "source": [
    "for event in abot.graph.stream({\"messages\": messages}, thread):\n",
    "    for v in event.values():\n",
    "        print(v['messages'])"
   ]
  },
  {
   "cell_type": "code",
   "execution_count": 11,
   "metadata": {},
   "outputs": [
    {
     "name": "stdout",
     "output_type": "stream",
     "text": [
      "{'messages': [AIMessage(content='', additional_kwargs={'tool_calls': [{'id': 'call_e3qv', 'function': {'arguments': '{\"query\":\"current weather in Los Angeles\"}', 'name': 'tavily_search_results_json'}, 'type': 'function'}]}, response_metadata={'token_usage': {'completion_tokens': 42, 'prompt_tokens': 1692, 'total_tokens': 1734, 'completion_time': 0.128384548, 'prompt_time': 0.678079542, 'queue_time': None, 'total_time': 0.80646409}, 'model_name': 'llama3-70b-8192', 'system_fingerprint': 'fp_c1a4bcec29', 'finish_reason': 'tool_calls', 'logprobs': None}, id='run-ae69a75e-79b4-45a4-ad6c-cf00c09744f6-0', tool_calls=[{'name': 'tavily_search_results_json', 'args': {'query': 'current weather in Los Angeles'}, 'id': 'call_e3qv'}])]}\n",
      "Calling: {'name': 'tavily_search_results_json', 'args': {'query': 'current weather in Los Angeles'}, 'id': 'call_e3qv'}\n",
      "Back to the model!\n",
      "{'messages': [ToolMessage(content='[{\\'url\\': \\'https://www.weatherapi.com/\\', \\'content\\': \"{\\'location\\': {\\'name\\': \\'Los Angeles\\', \\'region\\': \\'California\\', \\'country\\': \\'United States of America\\', \\'lat\\': 34.05, \\'lon\\': -118.24, \\'tz_id\\': \\'America/Los_Angeles\\', \\'localtime_epoch\\': 1717710187, \\'localtime\\': \\'2024-06-06 14:43\\'}, \\'current\\': {\\'last_updated_epoch\\': 1717709400, \\'last_updated\\': \\'2024-06-06 14:30\\', \\'temp_c\\': 20.0, \\'temp_f\\': 68.0, \\'is_day\\': 1, \\'condition\\': {\\'text\\': \\'Overcast\\', \\'icon\\': \\'//cdn.weatherapi.com/weather/64x64/day/122.png\\', \\'code\\': 1009}, \\'wind_mph\\': 10.5, \\'wind_kph\\': 16.9, \\'wind_degree\\': 240, \\'wind_dir\\': \\'WSW\\', \\'pressure_mb\\': 1013.0, \\'pressure_in\\': 29.9, \\'precip_mm\\': 0.0, \\'precip_in\\': 0.0, \\'humidity\\': 73, \\'cloud\\': 100, \\'feelslike_c\\': 20.0, \\'feelslike_f\\': 68.0, \\'windchill_c\\': 25.9, \\'windchill_f\\': 78.6, \\'heatindex_c\\': 26.4, \\'heatindex_f\\': 79.5, \\'dewpoint_c\\': 13.8, \\'dewpoint_f\\': 56.9, \\'vis_km\\': 16.0, \\'vis_miles\\': 9.0, \\'uv\\': 7.0, \\'gust_mph\\': 10.8, \\'gust_kph\\': 17.4}}\"}, {\\'url\\': \\'https://www.cnn.com/2024/06/05/weather/california-heat-dome-west-climate/index.html\\', \\'content\\': \"CNN —. A brutal heat dome is ramping up and sending temperatures to dangerous levels in California and the West in what is the region\\'s first significant heat wave of the year. And heat hasn ...\"}]', name='tavily_search_results_json', tool_call_id='call_e3qv')]}\n",
      "{'messages': [AIMessage(content='The current weather in Los Angeles is overcast with a temperature of 68.0°F (20.0°C) and a humidity of 73%. The wind is blowing at 10.5 mph (16.9 kph) from the west-southwest.', response_metadata={'token_usage': {'completion_tokens': 55, 'prompt_tokens': 2245, 'total_tokens': 2300, 'completion_time': 0.168472334, 'prompt_time': 1.072773494, 'queue_time': None, 'total_time': 1.241245828}, 'model_name': 'llama3-70b-8192', 'system_fingerprint': 'fp_c1a4bcec29', 'finish_reason': 'stop', 'logprobs': None}, id='run-835fd626-2e8f-47bf-a99e-529ff2921c69-0')]}\n"
     ]
    }
   ],
   "source": [
    "messages = [HumanMessage(content=\"What about in LA?\")]\n",
    "thread = {\"configurable\": {\"thread_id\": \"1\"}}\n",
    "for event in abot.graph.stream({\"messages\": messages}, thread):\n",
    "    for v in event.values():\n",
    "        print(v)"
   ]
  },
  {
   "cell_type": "code",
   "execution_count": 12,
   "metadata": {},
   "outputs": [
    {
     "name": "stdout",
     "output_type": "stream",
     "text": [
      "{'messages': [AIMessage(content=\"Los Angeles is warmer, with a temperature of 68.0°F (20.0°C), compared to San Francisco's temperature of 66.0°F (18.9°C).\", response_metadata={'token_usage': {'completion_tokens': 38, 'prompt_tokens': 2315, 'total_tokens': 2353, 'completion_time': 0.115628455, 'prompt_time': 1.082080401, 'queue_time': None, 'total_time': 1.197708856}, 'model_name': 'llama3-70b-8192', 'system_fingerprint': 'fp_c1a4bcec29', 'finish_reason': 'stop', 'logprobs': None}, id='run-82736493-df8a-41ef-88a3-c5d32e2eb9f2-0')]}\n"
     ]
    }
   ],
   "source": [
    "messages = [HumanMessage(content=\"Which one is warmer?\")]\n",
    "thread = {\"configurable\": {\"thread_id\": \"1\"}}\n",
    "for event in abot.graph.stream({\"messages\": messages}, thread):\n",
    "    for v in event.values():\n",
    "        print(v)"
   ]
  },
  {
   "cell_type": "code",
   "execution_count": 13,
   "metadata": {},
   "outputs": [
    {
     "name": "stdout",
     "output_type": "stream",
     "text": [
      "{'messages': [AIMessage(content='', additional_kwargs={'tool_calls': [{'id': 'call_wyrg', 'function': {'arguments': '{\"query\":\"temperature comparison\"}', 'name': 'tavily_search_results_json'}, 'type': 'function'}]}, response_metadata={'token_usage': {'completion_tokens': 37, 'prompt_tokens': 1012, 'total_tokens': 1049, 'completion_time': 0.112397023, 'prompt_time': 0.474923618, 'queue_time': None, 'total_time': 0.587320641}, 'model_name': 'llama3-70b-8192', 'system_fingerprint': 'fp_c1a4bcec29', 'finish_reason': 'tool_calls', 'logprobs': None}, id='run-31dde6dc-d6d1-4dfe-985c-42aaeb1300b4-0', tool_calls=[{'name': 'tavily_search_results_json', 'args': {'query': 'temperature comparison'}, 'id': 'call_wyrg'}])]}\n",
      "Calling: {'name': 'tavily_search_results_json', 'args': {'query': 'temperature comparison'}, 'id': 'call_wyrg'}\n",
      "Back to the model!\n",
      "{'messages': [ToolMessage(content=\"[{'url': 'https://weatherspark.com/compare', 'content': 'Weather Spark lets you compare and contrast the weather and climate between any two to four cities worldwide. You get a detailed report with graphs showing the precise differences between them. Even better than a side-by-side comparison, the report shows you the information in unified graphs.'}, {'url': 'https://www.wunderground.com/history', 'content': 'Find historical weather data for any location and date. Compare past and present conditions with radar, satellite and Wundermap.'}]\", name='tavily_search_results_json', tool_call_id='call_wyrg')]}\n",
      "{'messages': [AIMessage(content='', additional_kwargs={'tool_calls': [{'id': 'call_6htz', 'function': {'arguments': '{\"query\":\"temperature comparison between two cities\"}', 'name': 'tavily_search_results_json'}, 'type': 'function'}]}, response_metadata={'token_usage': {'completion_tokens': 40, 'prompt_tokens': 1191, 'total_tokens': 1231, 'completion_time': 0.116935432, 'prompt_time': 0.553608695, 'queue_time': None, 'total_time': 0.670544127}, 'model_name': 'llama3-70b-8192', 'system_fingerprint': 'fp_753a4aecf6', 'finish_reason': 'tool_calls', 'logprobs': None}, id='run-ee9dc4ab-2580-4620-b814-eaeb3012349e-0', tool_calls=[{'name': 'tavily_search_results_json', 'args': {'query': 'temperature comparison between two cities'}, 'id': 'call_6htz'}])]}\n",
      "Calling: {'name': 'tavily_search_results_json', 'args': {'query': 'temperature comparison between two cities'}, 'id': 'call_6htz'}\n",
      "Back to the model!\n",
      "{'messages': [ToolMessage(content=\"[{'url': 'https://weatherspark.com/compare', 'content': 'Weather Spark lets you compare and contrast the weather and climate between any two to four cities worldwide. You get a detailed report with graphs showing the precise differences between them. Even better than a side-by-side comparison, the report shows you the information in unified graphs. Please select a first city to compare'}, {'url': 'https://www.bestplaces.net/climate/', 'content': '2024 Compare Climate & Weather. What city has the best weather year round? What city in the US has the best weather in summer? Our climate & weather tool can help. Compare two cities that interest you. We have todays weather, high temperature, low temperature, rainfall, precipitation, snow, sun, clouds, humidity, and wind. Enter First Place'}]\", name='tavily_search_results_json', tool_call_id='call_6htz')]}\n",
      "{'messages': [AIMessage(content='To answer your original question, I need more information. Which two cities would you like to compare temperatures for?', response_metadata={'token_usage': {'completion_tokens': 22, 'prompt_tokens': 1432, 'total_tokens': 1454, 'completion_time': 0.063177035, 'prompt_time': 0.986895503, 'queue_time': None, 'total_time': 1.050072538}, 'model_name': 'llama3-70b-8192', 'system_fingerprint': 'fp_abd29e8833', 'finish_reason': 'stop', 'logprobs': None}, id='run-fa2776e0-3e79-4de4-b481-9b28469ccc1a-0')]}\n"
     ]
    }
   ],
   "source": [
    "messages = [HumanMessage(content=\"Which one is warmer?\")]\n",
    "thread = {\"configurable\": {\"thread_id\": \"2\"}}\n",
    "for event in abot.graph.stream({\"messages\": messages}, thread):\n",
    "    for v in event.values():\n",
    "        print(v)"
   ]
  },
  {
   "cell_type": "markdown",
   "metadata": {},
   "source": [
    "## Streaming tokens"
   ]
  },
  {
   "cell_type": "code",
   "execution_count": 16,
   "metadata": {},
   "outputs": [],
   "source": [
    "from langgraph.checkpoint.aiosqlite import AsyncSqliteSaver\n",
    "\n",
    "memory = AsyncSqliteSaver.from_conn_string(\":memory:\")\n",
    "abot = Agent(model, [tool], system=prompt, checkpointer=memory)"
   ]
  },
  {
   "cell_type": "code",
   "execution_count": 17,
   "metadata": {},
   "outputs": [
    {
     "name": "stderr",
     "output_type": "stream",
     "text": [
      "/home/ben/Desktop/LangGraph/venv/lib/python3.11/site-packages/langchain_core/_api/beta_decorator.py:87: LangChainBetaWarning: This API is in beta and may change in the future.\n",
      "  warn_beta(\n"
     ]
    },
    {
     "name": "stdout",
     "output_type": "stream",
     "text": [
      "Calling: {'name': 'tavily_search_results_json', 'args': {'query': 'current weather in San Francisco'}, 'id': 'call_0t7t'}\n",
      "Back to the model!\n",
      "The current weather in San Francisco is sunny with a temperature of 66.0°F (18.9°C) and a humidity of 61%. The wind is blowing at 13.6 mph (22.0 kph) from the west.|"
     ]
    }
   ],
   "source": [
    "messages = [HumanMessage(content=\"What is the weather in SF?\")]\n",
    "thread = {\"configurable\": {\"thread_id\": \"4\"}}\n",
    "async for event in abot.graph.astream_events({\"messages\": messages}, thread, version=\"v1\"):\n",
    "    kind = event[\"event\"]\n",
    "    if kind == \"on_chat_model_stream\":\n",
    "        content = event[\"data\"][\"chunk\"].content\n",
    "        if content:\n",
    "            # Empty content in the context of OpenAI means\n",
    "            # that the model is asking for a tool to be invoked.\n",
    "            # So we only print non-empty content\n",
    "            print(content, end=\"|\")"
   ]
  }
 ],
 "metadata": {
  "kernelspec": {
   "display_name": "venv",
   "language": "python",
   "name": "python3"
  },
  "language_info": {
   "codemirror_mode": {
    "name": "ipython",
    "version": 3
   },
   "file_extension": ".py",
   "mimetype": "text/x-python",
   "name": "python",
   "nbconvert_exporter": "python",
   "pygments_lexer": "ipython3",
   "version": "3.11.2"
  }
 },
 "nbformat": 4,
 "nbformat_minor": 2
}
